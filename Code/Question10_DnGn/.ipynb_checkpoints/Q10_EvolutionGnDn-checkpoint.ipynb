{
 "cells": [
  {
   "cell_type": "code",
   "execution_count": 4,
   "metadata": {},
   "outputs": [
    {
     "data": {
      "image/png": "[encoded data removed]",
      "text/plain": [
       "<Figure size 432x288 with 1 Axes>"
      ]
     },
     "metadata": {
      "needs_background": "light"
     },
     "output_type": "display_data"
    }
   ],
   "source": [
    "from numpy import *\n",
    "from random import *\n",
    "from scipy.stats import binom\n",
    "import numpy.random as npr\n",
    "import matplotlib.pyplot as plt\n",
    "import matplotlib.pyplot as plt1\n",
    "import scipy.stats\n",
    "import numpy as np\n",
    "from scipy.spatial import ConvexHull, convex_hull_plot_2d\n",
    "\n",
    "def simulate(N):\n",
    "    D=np.zeros(N+1)\n",
    "    D[0]=0\n",
    "    D[1]=0\n",
    "\n",
    "    #Cas pour le reste \n",
    "\n",
    "    for i in range(2,N+1):\n",
    "       p =((i-1)-D[i-1])/(i)\n",
    "       B=np.random. binomial (1,p,1)\n",
    "       D[i]=D[i-1]+B\n",
    "\n",
    "   \n",
    "    \n",
    "    tabindice=[]\n",
    "    G=np.zeros(N+1)\n",
    "    G[0]=0\n",
    "    G[1]=0\n",
    "    G[2]=1\n",
    "    \n",
    "    tabindice.append(0)\n",
    "    tabindice.append(1)\n",
    "    tabindice.append(2)\n",
    "\n",
    "    for i in range(3,N+1):\n",
    "        g2=((i-2)-G[i-1])/i\n",
    "        g1=2/i\n",
    "        g0=G[i-1]/i\n",
    "        \n",
    "        \n",
    "        nbaleatoire=random()\n",
    "        if(nbaleatoire<=g0):\n",
    "            G[i]=G[i-1]\n",
    "        ##gauche\n",
    "        elif(nbaleatoire<=(g0+g1)):\n",
    "            G[i]=G[i-1]+1\n",
    "        ##haut\n",
    "        elif(nbaleatoire<=(g0+g1+g2)):\n",
    "            G[i]=G[i-1]+2\n",
    "        tabindice.append(i)\n",
    "        \n",
    "\n",
    "\n",
    "    plt.title('Evolution de Gn et Dn')\n",
    "    plt.plot(D, G,'blue',lw=4)\n",
    "    plt.xlabel('Instant')\n",
    "    plt.ylabel('Valeur')\n",
    "    plt.rcParams.update({'font.size': 16})\n",
    "    plt.show()\n",
    "    \n",
    "simulate(2000)"
   ]
  },
  {
   "cell_type": "code",
   "execution_count": null,
   "metadata": {},
   "outputs": [],
   "source": []
  }
 ],
 "metadata": {
  "kernelspec": {
   "display_name": "Python 3",
   "language": "python",
   "name": "python3"
  },
  "language_info": {
   "codemirror_mode": {
    "name": "ipython",
    "version": 3
   },
   "file_extension": ".py",
   "mimetype": "text/x-python",
   "name": "python",
   "nbconvert_exporter": "python",
   "pygments_lexer": "ipython3",
   "version": "3.7.6"
  }
 },
 "nbformat": 4,
 "nbformat_minor": 4
}
